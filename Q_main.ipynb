{
 "cells": [
  {
   "cell_type": "code",
   "execution_count": 1,
   "metadata": {},
   "outputs": [
    {
     "name": "stderr",
     "output_type": "stream",
     "text": [
      "/root/anaconda3/envs/shopin/lib/python3.5/importlib/_bootstrap.py:222: RuntimeWarning: numpy.dtype size changed, may indicate binary incompatibility. Expected 96, got 88\n",
      "  return f(*args, **kwds)\n",
      "/root/anaconda3/envs/shopin/lib/python3.5/importlib/_bootstrap.py:222: RuntimeWarning: numpy.dtype size changed, may indicate binary incompatibility. Expected 96, got 88\n",
      "  return f(*args, **kwds)\n",
      "/root/anaconda3/envs/shopin/lib/python3.5/importlib/_bootstrap.py:222: RuntimeWarning: numpy.dtype size changed, may indicate binary incompatibility. Expected 96, got 88\n",
      "  return f(*args, **kwds)\n",
      "/root/anaconda3/envs/shopin/lib/python3.5/importlib/_bootstrap.py:222: RuntimeWarning: numpy.dtype size changed, may indicate binary incompatibility. Expected 96, got 88\n",
      "  return f(*args, **kwds)\n",
      "/root/anaconda3/envs/shopin/lib/python3.5/importlib/_bootstrap.py:222: RuntimeWarning: numpy.dtype size changed, may indicate binary incompatibility. Expected 96, got 88\n",
      "  return f(*args, **kwds)\n"
     ]
    }
   ],
   "source": [
    "import pandas as pd\n",
    "import numpy as np\n",
    "import itertools as itr\n",
    "import os,re,time\n",
    "import matplotlib.pyplot as plt\n",
    "\n",
    "import sklearn\n",
    "from sklearn.preprocessing import StandardScaler\n",
    "\n",
    "from sklearn.preprocessing import LabelEncoder,OneHotEncoder\n",
    "from sklearn.feature_extraction import FeatureHasher\n",
    "from sklearn.metrics import accuracy_score\n",
    "from sklearn.ensemble import RandomForestClassifier,RandomForestRegressor\n",
    "from sklearn.linear_model import Perceptron\n",
    "from sklearn.model_selection import train_test_split\n",
    "from sklearn.ensemble import BaggingClassifier,AdaBoostClassifier,GradientBoostingClassifier\n",
    "from sklearn.model_selection import GridSearchCV\n",
    "from sklearn.metrics import confusion_matrix, precision_score,precision_recall_curve, auc,accuracy_score,roc_auc_score, roc_curve, recall_score, classification_report,f1_score\n",
    "from sklearn import preprocessing\n",
    "from sklearn.svm import SVC\n",
    "from sklearn.neighbors import KNeighborsClassifier\n",
    "from sklearn.tree import DecisionTreeClassifier\n",
    "from sklearn.decomposition import PCA\n",
    "\n",
    "from xgboost import XGBClassifier\n",
    "\n",
    "import warnings\n",
    "warnings.filterwarnings(\"ignore\")\n",
    "\n",
    "\n",
    "\n",
    "from imblearn.over_sampling import SMOTE,SVMSMOTE\n",
    "from imblearn.under_sampling import TomekLinks,RandomUnderSampler\n",
    "\n",
    "from dummyPy import OneHotEncoder"
   ]
  },
  {
   "cell_type": "code",
   "execution_count": null,
   "metadata": {},
   "outputs": [],
   "source": []
  },
  {
   "cell_type": "code",
   "execution_count": 2,
   "metadata": {},
   "outputs": [],
   "source": [
    "# Read train csv\n",
    "train_data = pd.read_csv('data_train.csv')\n",
    "data = train_data.copy()"
   ]
  },
  {
   "cell_type": "code",
   "execution_count": 3,
   "metadata": {},
   "outputs": [
    {
     "name": "stdout",
     "output_type": "stream",
     "text": [
      "['num18', 'num19', 'num20', 'num22', 'cat1', 'cat2', 'cat3', 'cat4', 'cat5', 'cat6', 'cat8', 'cat10', 'cat12']\n"
     ]
    }
   ],
   "source": [
    "def col_null(data):\n",
    "    '''\n",
    "    UDF() - Columns with null values\n",
    "    Args - data- Dataframe\n",
    "    \n",
    "    Returns - columns with null values present\n",
    "    '''\n",
    "    for col in data.columns:\n",
    "        if data[col].isnull().sum()>0:\n",
    "            yield col\n",
    "null_col = list(col_null(train_data))\n",
    "print(null_col)"
   ]
  },
  {
   "cell_type": "code",
   "execution_count": 4,
   "metadata": {},
   "outputs": [
    {
     "name": "stdout",
     "output_type": "stream",
     "text": [
      "num18    18.105537\n",
      "num19     0.000839\n",
      "num20     0.000168\n",
      "num22     7.158893\n",
      "cat1      0.036409\n",
      "cat2      0.013926\n",
      "cat3      0.975503\n",
      "cat4      0.017953\n",
      "cat5      0.000839\n",
      "cat6     69.092617\n",
      "cat8     44.786577\n",
      "cat10     1.930034\n",
      "cat12     0.095638\n",
      "dtype: float64\n"
     ]
    }
   ],
   "source": [
    "# Percentage of data missing wrt whole data\n",
    "\n",
    "print(train_data[null_col].isnull().sum()/train_data.shape[0] *100)\n",
    "\n",
    "direct_drop_col = ['cat6','cat8']\n",
    "\n",
    "# cat6,cat8 - directly dropped from train_data. Mostly imputing the missing data leads to a better model but here we dont know about importance of each varible.\n",
    "# Theoretically 25-30 % missing data should be handled.\n",
    "# Here we dont know the significance of the variable i.e, how important it is to the business\n",
    "# The provided dataset lacks in explaining each column and it significance."
   ]
  },
  {
   "cell_type": "code",
   "execution_count": 5,
   "metadata": {
    "scrolled": true
   },
   "outputs": [
    {
     "data": {
      "text/plain": [
       "[('id', 596000, numpy.int64),\n",
       " ('num1', 8, numpy.int64),\n",
       " ('num2', 12, numpy.int64),\n",
       " ('num3', 2, numpy.int64),\n",
       " ('num4', 2, numpy.int64),\n",
       " ('num5', 2, numpy.int64),\n",
       " ('num6', 2, numpy.int64),\n",
       " ('num7', 2, numpy.int64),\n",
       " ('num8', 2, numpy.int64),\n",
       " ('num9', 2, numpy.int64),\n",
       " ('num10', 2, numpy.int64),\n",
       " ('num11', 5, numpy.int64),\n",
       " ('num12', 14, numpy.int64),\n",
       " ('num13', 2, numpy.int64),\n",
       " ('num14', 2, numpy.int64),\n",
       " ('num15', 2, numpy.int64),\n",
       " ('num16', 10, numpy.float64),\n",
       " ('num17', 19, numpy.float64),\n",
       " ('num18', 5013, numpy.float64),\n",
       " ('num19', 5, numpy.float64),\n",
       " ('num20', 184, numpy.float64),\n",
       " ('num21', 70482, numpy.float64),\n",
       " ('num22', 850, numpy.float64),\n",
       " ('num23', 15, numpy.float64),\n",
       " ('der1', 10, numpy.float64),\n",
       " ('der2', 10, numpy.float64),\n",
       " ('der3', 10, numpy.float64),\n",
       " ('der4', 6, numpy.int64),\n",
       " ('der5', 7, numpy.int64),\n",
       " ('der6', 11, numpy.int64),\n",
       " ('der7', 10, numpy.int64),\n",
       " ('der8', 11, numpy.int64),\n",
       " ('der9', 8, numpy.int64),\n",
       " ('der10', 26, numpy.int64),\n",
       " ('der11', 20, numpy.int64),\n",
       " ('der12', 11, numpy.int64),\n",
       " ('der13', 14, numpy.int64),\n",
       " ('der14', 24, numpy.int64),\n",
       " ('der15', 2, numpy.int64),\n",
       " ('der16', 2, numpy.int64),\n",
       " ('der17', 2, numpy.int64),\n",
       " ('der18', 2, numpy.int64),\n",
       " ('der19', 2, numpy.int64),\n",
       " ('cat1', 5, numpy.float64),\n",
       " ('cat2', 3, numpy.float64),\n",
       " ('cat3', 8, numpy.float64),\n",
       " ('cat4', 13, numpy.float64),\n",
       " ('cat5', 3, numpy.float64),\n",
       " ('cat6', 3, numpy.float64),\n",
       " ('cat7', 10, numpy.int64),\n",
       " ('cat8', 3, numpy.float64),\n",
       " ('cat9', 18, numpy.int64),\n",
       " ('cat10', 3, numpy.float64),\n",
       " ('cat11', 2, numpy.int64),\n",
       " ('cat12', 6, numpy.float64),\n",
       " ('cat13', 3, numpy.int64),\n",
       " ('cat14', 104, numpy.int64),\n",
       " ('target', 2, numpy.int64)]"
      ]
     },
     "execution_count": 5,
     "metadata": {},
     "output_type": "execute_result"
    }
   ],
   "source": [
    "def data_eda_generator(data,data_columns):\n",
    "    '''\n",
    "    UDF() - Finds the number of unique values in a column\n",
    "    Args - data,columns of data\n",
    "    \n",
    "    Returns - data_column_name,No. of unique values, data_type of column\n",
    "    \n",
    "    '''  \n",
    "    for index,value in enumerate(data_columns):\n",
    "        yield value,len(data[value].unique()),type(data[value][0])\n",
    "        \n",
    "        \n",
    "        \n",
    "\n",
    "list(data_eda_generator(train_data,train_data.columns))\n",
    " \n",
    "    "
   ]
  },
  {
   "cell_type": "code",
   "execution_count": 6,
   "metadata": {},
   "outputs": [],
   "source": [
    "def change_data_type(data,type_,pattern):\n",
    "    '''\n",
    "    UDF() - Converts data type of columns\n",
    "    Args - data- Dataframe\n",
    "           data_type - data type in which we want to convert the column\n",
    "           pattern - for a particular column which starts with a particular pattern\n",
    "    \n",
    "    Returns - None\n",
    "    '''\n",
    "    for index,value in enumerate(data.columns):\n",
    "        if re.search(pattern , str(value)):\n",
    "            data[value] = data[value].astype(type_)\n",
    "    return data \n",
    "\n",
    "# train_data_  = change_data_type(train_data,str,pattern='cat')"
   ]
  },
  {
   "cell_type": "code",
   "execution_count": 7,
   "metadata": {},
   "outputs": [],
   "source": [
    "# Creating dataframe for imputation\n",
    "# Selecting columns with null values\n",
    "# Direct_drop_col = 'cat6','cat8'\n",
    "\n",
    "drop_col = null_col + ['id'] + ['target']\n",
    "\n",
    "data_impute = data.drop(columns=drop_col)\n",
    "\n",
    "data_impute = change_data_type(data_impute,'category','cat')\n",
    "\n",
    "y_labels_columns = [x for x in null_col if x not in direct_drop_col]"
   ]
  },
  {
   "cell_type": "markdown",
   "metadata": {},
   "source": [
    "# Missing Values Imputation"
   ]
  },
  {
   "cell_type": "code",
   "execution_count": 8,
   "metadata": {},
   "outputs": [],
   "source": [
    "data_pr = change_data_type(data,'category','cat')"
   ]
  },
  {
   "cell_type": "code",
   "execution_count": 9,
   "metadata": {},
   "outputs": [],
   "source": [
    "# rc = RandomForestClassifier(n_estimators = 10, n_jobs=7,warm_start=True)\n",
    "# rg = RandomForestRegressor(n_estimators=10, n_jobs=7,warm_start=True)\n",
    "\n",
    "def impute_generator(data,columns):\n",
    "    '''\n",
    "    UDF() - Imputation of null values using Random Forest.\n",
    "    \n",
    "    Args - data- Dataframe\n",
    "           columns - Column names with null values\n",
    "   \n",
    "    Returns - tuples\n",
    "              [0]-Colname\n",
    "              [1]- y_test - Predicted values for nul values\n",
    "    \n",
    "    '''\n",
    "\n",
    "    for col in columns:\n",
    "                \n",
    "        rc = RandomForestClassifier(n_estimators = 10, n_jobs=3,warm_start=False)\n",
    "        rg = RandomForestRegressor(n_estimators=10, n_jobs=3,warm_start=False)\n",
    "        lableenc = LabelEncoder()\n",
    "\n",
    "        \n",
    "        \n",
    "        drop_list = [x for x in columns if x not in [col]]\n",
    "        drop_list = drop_list + ['id','cat6','cat8']\n",
    "        print('drop_list ::','\\t',drop_list)\n",
    "        data_ = data.drop(columns=drop_list)  \n",
    "        \n",
    "        \n",
    "        missing_perc = data[col].isnull().sum()/data.shape[0] \n",
    "        sample_from_data = 2*missing_perc\n",
    "        \n",
    "        \n",
    "        train_sample = data_.sample(frac=sample_from_data) # to control class imbalance\n",
    "        \n",
    "        \n",
    "        train_  = train_sample[train_sample[col].isnull()==False]\n",
    "        train_impute = train_.drop(columns=[col])\n",
    "        \n",
    "        \n",
    "        y_train = list(train_[train_[col].isnull()==False][col])\n",
    "        \n",
    "  \n",
    "        test_  = data_[data_[col].isnull()]\n",
    "        test_impute = test_.drop(columns=[col])\n",
    "        \n",
    "           \n",
    "        if data[col].dtype=='int64' or data[col].dtype=='float64' or data[col].dtype=='float16':\n",
    "            classifier = rg\n",
    "            print('performing regression')\n",
    "        else:\n",
    "            classifier = rc\n",
    "            print('performing classification')\n",
    "\n",
    "        \n",
    "        print('%s fitting in model'%col)\n",
    "        \n",
    "        y_train_enc = lableenc.fit_transform(y_train)\n",
    "        \n",
    "        \n",
    "        print('Shape of training data for rf :',train_impute.shape)\n",
    "        \n",
    "        classifier.fit(train_impute,y_train)\n",
    "        \n",
    "        y_test = classifier.predict(test_impute)\n",
    "        \n",
    "        print('%s prediction done'%col)\n",
    "        \n",
    "        col_name = col\n",
    "        \n",
    "        yield col_name,y_test\n",
    "  "
   ]
  },
  {
   "cell_type": "code",
   "execution_count": 10,
   "metadata": {
    "scrolled": true
   },
   "outputs": [
    {
     "name": "stdout",
     "output_type": "stream",
     "text": [
      "drop_list :: \t ['num19', 'num20', 'num22', 'cat1', 'cat2', 'cat3', 'cat4', 'cat5', 'cat10', 'cat12', 'id', 'cat6', 'cat8']\n",
      "performing regression\n",
      "num18 fitting in model\n",
      "Shape of training data for rf : (176843, 44)\n",
      "num18 prediction done\n",
      "drop_list :: \t ['num18', 'num20', 'num22', 'cat1', 'cat2', 'cat3', 'cat4', 'cat5', 'cat10', 'cat12', 'id', 'cat6', 'cat8']\n",
      "performing regression\n",
      "num19 fitting in model\n",
      "Shape of training data for rf : (10, 44)\n",
      "num19 prediction done\n",
      "drop_list :: \t ['num18', 'num19', 'num22', 'cat1', 'cat2', 'cat3', 'cat4', 'cat5', 'cat10', 'cat12', 'id', 'cat6', 'cat8']\n",
      "performing regression\n",
      "num20 fitting in model\n",
      "Shape of training data for rf : (2, 44)\n",
      "num20 prediction done\n",
      "drop_list :: \t ['num18', 'num19', 'num20', 'cat1', 'cat2', 'cat3', 'cat4', 'cat5', 'cat10', 'cat12', 'id', 'cat6', 'cat8']\n",
      "performing regression\n",
      "num22 fitting in model\n",
      "Shape of training data for rf : (79233, 44)\n",
      "num22 prediction done\n",
      "drop_list :: \t ['num18', 'num19', 'num20', 'num22', 'cat2', 'cat3', 'cat4', 'cat5', 'cat10', 'cat12', 'id', 'cat6', 'cat8']\n",
      "performing classification\n",
      "cat1 fitting in model\n",
      "Shape of training data for rf : (434, 44)\n",
      "cat1 prediction done\n",
      "drop_list :: \t ['num18', 'num19', 'num20', 'num22', 'cat1', 'cat3', 'cat4', 'cat5', 'cat10', 'cat12', 'id', 'cat6', 'cat8']\n",
      "performing classification\n",
      "cat2 fitting in model\n",
      "Shape of training data for rf : (166, 44)\n",
      "cat2 prediction done\n",
      "drop_list :: \t ['num18', 'num19', 'num20', 'num22', 'cat1', 'cat2', 'cat4', 'cat5', 'cat10', 'cat12', 'id', 'cat6', 'cat8']\n",
      "performing classification\n",
      "cat3 fitting in model\n",
      "Shape of training data for rf : (11503, 44)\n",
      "cat3 prediction done\n",
      "drop_list :: \t ['num18', 'num19', 'num20', 'num22', 'cat1', 'cat2', 'cat3', 'cat5', 'cat10', 'cat12', 'id', 'cat6', 'cat8']\n",
      "performing classification\n",
      "cat4 fitting in model\n",
      "Shape of training data for rf : (214, 44)\n",
      "cat4 prediction done\n",
      "drop_list :: \t ['num18', 'num19', 'num20', 'num22', 'cat1', 'cat2', 'cat3', 'cat4', 'cat10', 'cat12', 'id', 'cat6', 'cat8']\n",
      "performing classification\n",
      "cat5 fitting in model\n",
      "Shape of training data for rf : (10, 44)\n",
      "cat5 prediction done\n",
      "drop_list :: \t ['num18', 'num19', 'num20', 'num22', 'cat1', 'cat2', 'cat3', 'cat4', 'cat5', 'cat12', 'id', 'cat6', 'cat8']\n",
      "performing classification\n",
      "cat10 fitting in model\n",
      "Shape of training data for rf : (22552, 44)\n",
      "cat10 prediction done\n",
      "drop_list :: \t ['num18', 'num19', 'num20', 'num22', 'cat1', 'cat2', 'cat3', 'cat4', 'cat5', 'cat10', 'id', 'cat6', 'cat8']\n",
      "performing classification\n",
      "cat12 fitting in model\n",
      "Shape of training data for rf : (1140, 44)\n",
      "cat12 prediction done\n"
     ]
    }
   ],
   "source": [
    "out_imputed = list(impute_generator(data=data_pr,columns=y_labels_columns))"
   ]
  },
  {
   "cell_type": "code",
   "execution_count": 11,
   "metadata": {},
   "outputs": [],
   "source": [
    "def update_data(data,list_):\n",
    "    '''\n",
    "    UDF() - Update the null values with predicted values\n",
    "    \n",
    "    Args - Data - dataframe\n",
    "           list_ - output list of impute_generator\n",
    "           \n",
    "   Returns - Imputed Dataframe\n",
    "    \n",
    "    '''\n",
    "    \n",
    "    data_  = data\n",
    "    \n",
    "    for element in list_:\n",
    "        \n",
    "        col_name = element[0]\n",
    "        \n",
    "        print('Processing {}'.format(col_name))\n",
    "        \n",
    "        pred_values = element[1]\n",
    "      \n",
    "        test_index = data_[data_[col_name].isnull()][col_name].index\n",
    "        \n",
    "        # Update values\n",
    "        \n",
    "        data_.loc[test_index,col_name] = pred_values\n",
    "        \n",
    "        \n",
    "    return data_\n",
    "        "
   ]
  },
  {
   "cell_type": "code",
   "execution_count": 12,
   "metadata": {},
   "outputs": [
    {
     "name": "stdout",
     "output_type": "stream",
     "text": [
      "Processing num18\n",
      "Processing num19\n",
      "Processing num20\n",
      "Processing num22\n",
      "Processing cat1\n",
      "Processing cat2\n",
      "Processing cat3\n",
      "Processing cat4\n",
      "Processing cat5\n",
      "Processing cat10\n",
      "Processing cat12\n"
     ]
    }
   ],
   "source": [
    "imputed_data = update_data(data=data_pr,list_=out_imputed)\n"
   ]
  },
  {
   "cell_type": "code",
   "execution_count": 13,
   "metadata": {},
   "outputs": [
    {
     "data": {
      "text/plain": [
       "id        False\n",
       "num1      False\n",
       "num2      False\n",
       "num3      False\n",
       "num4      False\n",
       "num5      False\n",
       "num6      False\n",
       "num7      False\n",
       "num8      False\n",
       "num9      False\n",
       "num10     False\n",
       "num11     False\n",
       "num12     False\n",
       "num13     False\n",
       "num14     False\n",
       "num15     False\n",
       "num16     False\n",
       "num17     False\n",
       "num18     False\n",
       "num19     False\n",
       "num20     False\n",
       "num21     False\n",
       "num22     False\n",
       "num23     False\n",
       "der1      False\n",
       "der2      False\n",
       "der3      False\n",
       "der4      False\n",
       "der5      False\n",
       "der6      False\n",
       "der7      False\n",
       "der8      False\n",
       "der9      False\n",
       "der10     False\n",
       "der11     False\n",
       "der12     False\n",
       "der13     False\n",
       "der14     False\n",
       "der15     False\n",
       "der16     False\n",
       "der17     False\n",
       "der18     False\n",
       "der19     False\n",
       "cat1      False\n",
       "cat2      False\n",
       "cat3      False\n",
       "cat4      False\n",
       "cat5      False\n",
       "cat7      False\n",
       "cat9      False\n",
       "cat10     False\n",
       "cat11     False\n",
       "cat12     False\n",
       "cat13     False\n",
       "cat14     False\n",
       "target    False\n",
       "dtype: bool"
      ]
     },
     "execution_count": 13,
     "metadata": {},
     "output_type": "execute_result"
    }
   ],
   "source": [
    "# Dropping 'cat6' and 'cat8'\n",
    "#  Due to High Percentage of missing values \n",
    "\n",
    "data_final = imputed_data.drop(columns=direct_drop_col)\n",
    "data_final.isnull().any()"
   ]
  },
  {
   "cell_type": "code",
   "execution_count": 14,
   "metadata": {
    "scrolled": false
   },
   "outputs": [
    {
     "name": "stdout",
     "output_type": "stream",
     "text": [
      "Shape of data loaded ((596000, 58)) \"VS\" Shape of data after preprocess ((596000, 56))\n"
     ]
    }
   ],
   "source": [
    "print('Shape of data loaded ({}) \"VS\" Shape of data after preprocess ({})'.format(data.shape,data_final.shape))\n",
    "    "
   ]
  },
  {
   "cell_type": "markdown",
   "metadata": {},
   "source": [
    "# Handling Categorical Variables"
   ]
  },
  {
   "cell_type": "code",
   "execution_count": 15,
   "metadata": {},
   "outputs": [],
   "source": [
    "categorical_columns = ['cat1', 'cat2', 'cat3', 'cat4', 'cat5', 'cat7', 'cat9','cat10', 'cat11', 'cat12', 'cat13','cat14','target']\n",
    "# data_final_cat14_drop = data_final.drop(columns=['cat14'])\n",
    "\n",
    "# Dropping cat14 - 104 categories"
   ]
  },
  {
   "cell_type": "code",
   "execution_count": 16,
   "metadata": {},
   "outputs": [],
   "source": [
    "class MultiColumnLabelEncoder:\n",
    "    def __init__(self,columns = None):\n",
    "        self.columns = columns \n",
    "\n",
    "    def fit(self,X,y=None):\n",
    "        return self \n",
    "\n",
    "    def transform(self,X):\n",
    "        \n",
    "        output = X.copy()\n",
    "        if self.columns is not None:\n",
    "            for col in self.columns:\n",
    "                output[col] = preprocessing.LabelEncoder().fit_transform(output[col])\n",
    "        else:\n",
    "            for colname,col in output.iteritems():\n",
    "                output[colname] = preprocessing.LabelEncoder().fit_transform(col)\n",
    "        return output\n",
    "\n",
    "    def fit_transform(self,X,y=None):\n",
    "        return self.fit(X,y).transform(X)\n",
    "\n"
   ]
  },
  {
   "cell_type": "code",
   "execution_count": 17,
   "metadata": {},
   "outputs": [],
   "source": [
    "df_final_1 = MultiColumnLabelEncoder(columns = categorical_columns).fit_transform(data_final)"
   ]
  },
  {
   "cell_type": "code",
   "execution_count": 18,
   "metadata": {},
   "outputs": [],
   "source": [
    "df_final_1.target = df_final_1.target.astype('category')"
   ]
  },
  {
   "cell_type": "code",
   "execution_count": 19,
   "metadata": {},
   "outputs": [
    {
     "data": {
      "text/plain": [
       "(596000, 56)"
      ]
     },
     "execution_count": 19,
     "metadata": {},
     "output_type": "execute_result"
    }
   ],
   "source": [
    "df_final_1.shape"
   ]
  },
  {
   "cell_type": "code",
   "execution_count": null,
   "metadata": {},
   "outputs": [],
   "source": []
  },
  {
   "cell_type": "code",
   "execution_count": null,
   "metadata": {},
   "outputs": [],
   "source": []
  },
  {
   "cell_type": "markdown",
   "metadata": {},
   "source": [
    "# Checking Linear Separability Using Single Layer Perceptron"
   ]
  },
  {
   "cell_type": "code",
   "execution_count": 20,
   "metadata": {
    "scrolled": true
   },
   "outputs": [
    {
     "data": {
      "image/png": "[encoded data removed]",
      "text/plain": [
       "<Figure size 432x288 with 1 Axes>"
      ]
     },
     "metadata": {
      "needs_background": "light"
     },
     "output_type": "display_data"
    },
    {
     "name": "stdout",
     "output_type": "stream",
     "text": [
      "The Confusion matrix tells us that data is not linearly separable although it has only two classes. \n",
      " To classify this data properly we have to apply non linear classification techniques.\n"
     ]
    }
   ],
   "source": [
    "#A single layer perceptron will only converge if the input vectors are linearly separable. \n",
    "# In this state, all input vectors would be classified correctly indicating linear separability. \n",
    "# It will not converge if they are not linearly separable. In other words, it will not classify \n",
    "# correctly if the data set is not linearly separable. For our testing purpose, this is exactly what we need \n",
    "\n",
    "\n",
    "plt.clf() \n",
    "\n",
    "df = df_final_1\n",
    "df = df.drop(columns=['id','target'],axis=1)\n",
    "# x = df.loc[:, :'target'].values\n",
    "x = df.values\n",
    "y = df_final_1.target\n",
    "  \n",
    "#Perform feature scaling\n",
    "sc= StandardScaler()\n",
    "x = sc.fit_transform(x)\n",
    "\n",
    "perceptron = Perceptron(random_state = 0)\n",
    "perceptron.fit(x, y)\n",
    "predicted = perceptron.predict(x)\n",
    "\n",
    "\n",
    "\n",
    "cm = confusion_matrix(y, predicted)\n",
    " \n",
    "plt.clf() \n",
    "plt.imshow(cm, interpolation='nearest', cmap=plt.cm.Wistia)\n",
    "classNames = ['Negative','Positive']\n",
    "plt.title('Perceptron Confusion Matrix - Entire Data')\n",
    "plt.ylabel('True label')\n",
    "plt.xlabel('Predicted label')\n",
    "tick_marks = np.arange(len(classNames))\n",
    "plt.xticks(tick_marks, classNames, rotation=45)\n",
    "plt.yticks(tick_marks, classNames)\n",
    "s = [['TN','FP'], ['FN', 'TP']]\n",
    "  \n",
    "for i in range(2):\n",
    "    for j in range(2):\n",
    "        plt.text(j,i, str(s[i][j])+\" = \"+str(cm[i][j]))\n",
    "plt.show()\n",
    "\n",
    "print('The Confusion matrix tells us that data is not linearly separable although it has only two classes.','\\n','To classify this data properly we have to apply non linear classification techniques.')"
   ]
  },
  {
   "cell_type": "markdown",
   "metadata": {},
   "source": [
    "# Data Split 80-20% train_test Split"
   ]
  },
  {
   "cell_type": "code",
   "execution_count": 21,
   "metadata": {},
   "outputs": [],
   "source": [
    "# data_final_1.target = data_final_1.target.astype('category')\n",
    "data_model = df_final_1.drop(columns=['id','target'],axis=1)\n",
    "y = df_final_1.target"
   ]
  },
  {
   "cell_type": "code",
   "execution_count": 22,
   "metadata": {},
   "outputs": [],
   "source": [
    "X_train,X_test,y_train,y_test = train_test_split(data_model,y,test_size = 0.2,random_state=42,shuffle=True)"
   ]
  },
  {
   "cell_type": "code",
   "execution_count": 23,
   "metadata": {},
   "outputs": [
    {
     "name": "stdout",
     "output_type": "stream",
     "text": [
      "Train data shape (476800, 54) \n",
      " Test data shape (119200, 54) \n",
      "  Train target shape(476800,) \n",
      "  Test target shape (119200,)\n"
     ]
    }
   ],
   "source": [
    "print('Train data shape {} \\n Test data shape {} \\n  Train target shape{} \\n  Test target shape {}'.format(X_train.shape,X_test.shape,y_train.shape,y_test.shape))"
   ]
  },
  {
   "cell_type": "markdown",
   "metadata": {},
   "source": [
    "# Controlling Class Imbalance"
   ]
  },
  {
   "cell_type": "code",
   "execution_count": 24,
   "metadata": {},
   "outputs": [
    {
     "name": "stdout",
     "output_type": "stream",
     "text": [
      "-The cause of not finding a linear decision boundary must be related to class imbalance. \n",
      " -As the number of FN & FP cases are very high. \n",
      " The posibility of not getting linear boundary might be related to the fact that number of classes for a particular class must be very less. \n",
      " -So the classifier is unable to build a proper decision boundary.\n",
      " -Chance of overfitting is also considerably high\n"
     ]
    }
   ],
   "source": [
    "print('-The cause of not finding a linear decision boundary must be related to class imbalance. \\n -As the number of FN & FP cases are very high. \\n The posibility of not getting linear boundary might be related to the fact that number of classes for a particular class must be very less. \\n -So the classifier is unable to build a proper decision boundary.\\n -Chance of overfitting is also considerably high')"
   ]
  },
  {
   "cell_type": "code",
   "execution_count": 25,
   "metadata": {
    "scrolled": true
   },
   "outputs": [
    {
     "name": "stdout",
     "output_type": "stream",
     "text": [
      "Number of observations from class \"0\"-> 574284 \n",
      " Number of classes from class \"1\"-> 21716\n",
      "\n",
      "\n",
      "Percentage of class \"0\"-> 96.35637583892618 \n",
      " Percentage of class \"1\"-> 3.6436241610738254\n"
     ]
    }
   ],
   "source": [
    "print('Number of observations from class \"0\"-> {} \\n Number of classes from class \"1\"-> {}'.format(y.value_counts()[0],y.value_counts()[1]))\n",
    "print('\\n')\n",
    "print('Percentage of class \"0\"-> {} \\n Percentage of class \"1\"-> {}'.format(y.value_counts()[0]/len(y) *100,y.value_counts()[1]/len(y) *100))"
   ]
  },
  {
   "cell_type": "code",
   "execution_count": 26,
   "metadata": {},
   "outputs": [
    {
     "name": "stdout",
     "output_type": "stream",
     "text": [
      "Before underSampling, counts of label '1': 17261\n",
      "Before underSampling, counts of label '0': 459539 \n",
      "\n",
      "After underSampling, the shape of train_X: (34522, 54)\n",
      "After underSampling, the shape of train_y: (34522,) \n",
      "\n",
      "After underSampling, counts of label '1': 17261\n",
      "After underSampling, counts of label '0': 17261\n"
     ]
    }
   ],
   "source": [
    "print(\"Before underSampling, counts of label '1': {}\".format(sum(y_train==1)))\n",
    "print(\"Before underSampling, counts of label '0': {} \\n\".format(sum(y_train==0)))\n",
    "\n",
    "# sm = SMOTEENN(ratio='minority',random_state=42)\n",
    "\n",
    "\n",
    "# sm  = SMOTE(random_state=12,n_jobs = 16)\n",
    "sm  = RandomUnderSampler(random_state=42)\n",
    "\n",
    "\n",
    "X_train_res, y_train_res = sm.fit_sample(X_train, y_train.ravel())\n",
    "\n",
    "print('After underSampling, the shape of train_X: {}'.format(X_train_res.shape))\n",
    "print('After underSampling, the shape of train_y: {} \\n'.format(y_train_res.shape))\n",
    "\n",
    "print(\"After underSampling, counts of label '1': {}\".format(sum(y_train_res==1)))\n",
    "print(\"After underSampling, counts of label '0': {}\".format(sum(y_train_res==0)))"
   ]
  },
  {
   "cell_type": "markdown",
   "metadata": {},
   "source": [
    "# Dimensionality reduction"
   ]
  },
  {
   "cell_type": "code",
   "execution_count": 27,
   "metadata": {},
   "outputs": [
    {
     "name": "stdout",
     "output_type": "stream",
     "text": [
      "Extracting the top 15 eigen valeus from 476800 items\n",
      "done in 4.983s\n",
      "Projecting the input data on the eigen values orthonormal basis\n",
      "done in 4.983s\n",
      "train shape: (34522, 15)\n",
      "test shape: (119200, 15)\n",
      "Explained Variance: 0.990580\n"
     ]
    }
   ],
   "source": [
    "n_components = 15\n",
    "\n",
    "#Perform feature scaling\n",
    "sc= StandardScaler()\n",
    "X_train_ = sc.fit_transform(X_train_res)\n",
    "X_test_ = sc.fit_transform(X_test)\n",
    "\n",
    "print(\"Extracting the top %d eigen valeus from %d items\"\n",
    "      % (n_components, X_train.shape[0]))\n",
    "start = time.time()\n",
    "pca = PCA(n_components=n_components, svd_solver='randomized',\n",
    "          whiten=True).fit(X_train)\n",
    "\n",
    "end_ = time.time()\n",
    "print(\"done in %0.3fs\" % (end_ - start))\n",
    "\n",
    "# eigenfaces = pca.components_.reshape((n_components, h, w))\n",
    "\n",
    "print(\"Projecting the input data on the eigen values orthonormal basis\")\n",
    "end = time.time()\n",
    "X_train_pca = pca.transform(X_train_)\n",
    "X_test_pca = pca.transform(X_test)\n",
    "print(\"done in %0.3fs\" % (end-start))\n",
    "\n",
    "print('train shape:',X_train_pca.shape)\n",
    "print('test shape:',X_test_pca.shape)\n",
    "\n",
    "\n",
    "\n",
    "print('Explained Variance: %3f'%sum(pca.explained_variance_ratio_))"
   ]
  },
  {
   "cell_type": "markdown",
   "metadata": {},
   "source": [
    "# Model"
   ]
  },
  {
   "cell_type": "code",
   "execution_count": 28,
   "metadata": {},
   "outputs": [],
   "source": [
    "import itertools\n",
    "\n",
    "def plot_confusion_matrix(cm, classes,\n",
    "                          normalize=False,\n",
    "                          title='Confusion matrix',\n",
    "                          cmap=plt.cm.Blues):\n",
    "    \"\"\"\n",
    "    This function prints and plots the confusion matrix.\n",
    "    Normalization can be applied by setting `normalize=True`.\n",
    "    \"\"\"\n",
    "    plt.imshow(cm, interpolation='nearest', cmap=cmap)\n",
    "    plt.title(title)\n",
    "    plt.colorbar()\n",
    "    tick_marks = np.arange(len(classes))\n",
    "    plt.xticks(tick_marks, classes, rotation=0)\n",
    "    plt.yticks(tick_marks, classes)\n",
    "\n",
    "    if normalize:\n",
    "        cm = cm.astype('float') / cm.sum(axis=1)[:, np.newaxis]\n",
    "        #print(\"Normalized confusion matrix\")\n",
    "    else:\n",
    "        1#print('Confusion matrix, without normalization')\n",
    "\n",
    "    #print(cm)\n",
    "\n",
    "    thresh = cm.max() / 2.\n",
    "    for i, j in itertools.product(range(cm.shape[0]), range(cm.shape[1])):\n",
    "        plt.text(j, i, cm[i, j],\n",
    "                 horizontalalignment=\"center\",\n",
    "                 color=\"white\" if cm[i, j] > thresh else \"black\")\n",
    "\n",
    "    plt.tight_layout()\n",
    "    plt.ylabel('True label')\n",
    "    plt.xlabel('Predicted label')"
   ]
  },
  {
   "cell_type": "markdown",
   "metadata": {},
   "source": [
    "# KNN"
   ]
  },
  {
   "cell_type": "code",
   "execution_count": 29,
   "metadata": {},
   "outputs": [],
   "source": [
    "knn = KNeighborsClassifier(n_jobs=31,n_neighbors=5,weights='distance')"
   ]
  },
  {
   "cell_type": "code",
   "execution_count": 30,
   "metadata": {},
   "outputs": [
    {
     "data": {
      "text/plain": [
       "KNeighborsClassifier(algorithm='auto', leaf_size=30, metric='minkowski',\n",
       "           metric_params=None, n_jobs=31, n_neighbors=5, p=2,\n",
       "           weights='distance')"
      ]
     },
     "execution_count": 30,
     "metadata": {},
     "output_type": "execute_result"
    }
   ],
   "source": [
    "knn.fit(X_train_pca,y_train_res)"
   ]
  },
  {
   "cell_type": "code",
   "execution_count": 31,
   "metadata": {},
   "outputs": [
    {
     "name": "stdout",
     "output_type": "stream",
     "text": [
      "CPU times: user 23min 40s, sys: 1.65 s, total: 23min 42s\n",
      "Wall time: 47 s\n",
      "Recall metric in the train dataset: 81.79573512906846%\n",
      "Recall: 81.79573512906846\n",
      "\n",
      "\n",
      "Precision: 3.70110809795139\n",
      "F1: 7.081778606965175\n",
      "Accuracy: 19.778523489932887\n",
      "ROC_AUC:, 49.58321333123431\n"
     ]
    },
    {
     "data": {
      "image/png": "[encoded data removed]",
      "text/plain": [
       "<Figure size 432x288 with 2 Axes>"
      ]
     },
     "metadata": {
      "needs_background": "light"
     },
     "output_type": "display_data"
    }
   ],
   "source": [
    "%time y_train_pre = knn.predict(X_test_pca)\n",
    "cnf_matrix_tra = confusion_matrix(y_test, y_train_pre)\n",
    "\n",
    "print(\"Recall metric in the train dataset: {}%\".format(100*cnf_matrix_tra[1,1]/(cnf_matrix_tra[1,0]+cnf_matrix_tra[1,1])))\n",
    "\n",
    "\n",
    "\n",
    "print('Recall:',recall_score(y_test,y_train_pre)*100)\n",
    "print('\\n')\n",
    "\n",
    "print('Precision:',precision_score(y_test,y_train_pre)*100)\n",
    "\n",
    "\n",
    "print('F1:',f1_score(y_test,y_train_pre)*100)\n",
    "\n",
    "print('Accuracy:',accuracy_score(y_test,y_train_pre)*100)\n",
    "print('ROC_AUC:,',roc_auc_score(y_test,y_train_pre)*100)\n",
    "\n",
    "\n",
    "class_names = [0,1]\n",
    "plt.figure()\n",
    "plot_confusion_matrix(cnf_matrix_tra , classes=class_names, title='Confusion matrix')\n",
    "plt.show()"
   ]
  },
  {
   "cell_type": "markdown",
   "metadata": {},
   "source": [
    "# Random Forest"
   ]
  },
  {
   "cell_type": "code",
   "execution_count": 32,
   "metadata": {},
   "outputs": [],
   "source": [
    "rfc = RandomForestClassifier(n_jobs=31,n_estimators=100,verbose=1,class_weight='balanced')"
   ]
  },
  {
   "cell_type": "code",
   "execution_count": 33,
   "metadata": {},
   "outputs": [
    {
     "name": "stderr",
     "output_type": "stream",
     "text": [
      "[Parallel(n_jobs=31)]: Using backend ThreadingBackend with 31 concurrent workers.\n"
     ]
    },
    {
     "name": "stdout",
     "output_type": "stream",
     "text": [
      "CPU times: user 24.6 s, sys: 259 ms, total: 24.9 s\n",
      "Wall time: 1.17 s\n"
     ]
    },
    {
     "name": "stderr",
     "output_type": "stream",
     "text": [
      "[Parallel(n_jobs=31)]: Done 100 out of 100 | elapsed:    1.1s finished\n"
     ]
    },
    {
     "data": {
      "text/plain": [
       "RandomForestClassifier(bootstrap=True, class_weight='balanced',\n",
       "            criterion='gini', max_depth=None, max_features='auto',\n",
       "            max_leaf_nodes=None, min_impurity_decrease=0.0,\n",
       "            min_impurity_split=None, min_samples_leaf=1,\n",
       "            min_samples_split=2, min_weight_fraction_leaf=0.0,\n",
       "            n_estimators=100, n_jobs=31, oob_score=False,\n",
       "            random_state=None, verbose=1, warm_start=False)"
      ]
     },
     "execution_count": 33,
     "metadata": {},
     "output_type": "execute_result"
    }
   ],
   "source": [
    "%time rfc.fit(X_train_pca,y_train_res)"
   ]
  },
  {
   "cell_type": "code",
   "execution_count": 34,
   "metadata": {
    "scrolled": false
   },
   "outputs": [
    {
     "name": "stderr",
     "output_type": "stream",
     "text": [
      "[Parallel(n_jobs=31)]: Using backend ThreadingBackend with 31 concurrent workers.\n",
      "[Parallel(n_jobs=31)]: Done 100 out of 100 | elapsed:    0.1s finished\n"
     ]
    },
    {
     "name": "stdout",
     "output_type": "stream",
     "text": [
      "CPU times: user 1.1 s, sys: 39.1 ms, total: 1.14 s\n",
      "Wall time: 216 ms\n",
      "Recall metric in the train dataset: 21.414141414141415%\n",
      "Recall: 21.41414141414141\n",
      "\n",
      "\n",
      "Precision: 3.4756630719906734\n",
      "F1: 5.980628780992384\n",
      "Accuracy: 74.83640939597316\n",
      "ROC_AUC:, 49.16234108922244\n"
     ]
    },
    {
     "data": {
      "image/png": "[encoded data removed]",
      "text/plain": [
       "<Figure size 432x288 with 2 Axes>"
      ]
     },
     "metadata": {
      "needs_background": "light"
     },
     "output_type": "display_data"
    }
   ],
   "source": [
    "%time y_train_pre = rfc.predict(X_test_pca)\n",
    "cnf_matrix_tra = confusion_matrix(y_test, y_train_pre)\n",
    "\n",
    "print(\"Recall metric in the train dataset: {}%\".format(100*cnf_matrix_tra[1,1]/(cnf_matrix_tra[1,0]+cnf_matrix_tra[1,1])))\n",
    "\n",
    "\n",
    "\n",
    "print('Recall:',recall_score(y_test,y_train_pre)*100)\n",
    "print('\\n')\n",
    "print('Precision:',precision_score(y_test,y_train_pre)*100)\n",
    "print('F1:',f1_score(y_test,y_train_pre)*100)\n",
    "print('Accuracy:',accuracy_score(y_test,y_train_pre)*100)\n",
    "print('ROC_AUC:,',roc_auc_score(y_test,y_train_pre)*100)\n",
    "\n",
    "\n",
    "\n",
    "class_names = [0,1]\n",
    "plt.figure()\n",
    "plot_confusion_matrix(cnf_matrix_tra , classes=class_names, title='Confusion matrix')\n",
    "plt.show()"
   ]
  },
  {
   "cell_type": "markdown",
   "metadata": {},
   "source": [
    "# Boosting\n"
   ]
  },
  {
   "cell_type": "markdown",
   "metadata": {},
   "source": [
    "# Ada boost"
   ]
  },
  {
   "cell_type": "code",
   "execution_count": 35,
   "metadata": {},
   "outputs": [],
   "source": [
    "adabst = AdaBoostClassifier(base_estimator=DecisionTreeClassifier(),learning_rate=0.75,n_estimators=100)"
   ]
  },
  {
   "cell_type": "code",
   "execution_count": 36,
   "metadata": {
    "scrolled": true
   },
   "outputs": [
    {
     "name": "stdout",
     "output_type": "stream",
     "text": [
      "CPU times: user 1.22 s, sys: 116 ms, total: 1.34 s\n",
      "Wall time: 1.16 s\n"
     ]
    },
    {
     "data": {
      "text/plain": [
       "AdaBoostClassifier(algorithm='SAMME.R',\n",
       "          base_estimator=DecisionTreeClassifier(class_weight=None, criterion='gini', max_depth=None,\n",
       "            max_features=None, max_leaf_nodes=None,\n",
       "            min_impurity_decrease=0.0, min_impurity_split=None,\n",
       "            min_samples_leaf=1, min_samples_split=2,\n",
       "            min_weight_fraction_leaf=0.0, presort=False, random_state=None,\n",
       "            splitter='best'),\n",
       "          learning_rate=0.75, n_estimators=100, random_state=None)"
      ]
     },
     "execution_count": 36,
     "metadata": {},
     "output_type": "execute_result"
    }
   ],
   "source": [
    "%time adabst.fit(X_train_pca,y_train_res)"
   ]
  },
  {
   "cell_type": "code",
   "execution_count": 37,
   "metadata": {},
   "outputs": [
    {
     "name": "stdout",
     "output_type": "stream",
     "text": [
      "WITH CLASS IMBALANCE\n",
      "CPU times: user 24.9 ms, sys: 11 µs, total: 24.9 ms\n",
      "Wall time: 22.6 ms\n",
      "Recall metric in the train dataset: 8.507295173961841%\n",
      "Recall: 8.50729517396184\n",
      "\n",
      "\n",
      "Precision: 5.4808387563268255\n",
      "F1: 6.666666666666667\n",
      "Accuracy: 91.09731543624162\n",
      "ROC_AUC:, 51.40559320552639\n"
     ]
    },
    {
     "data": {
      "image/png": "[encoded data removed]",
      "text/plain": [
       "<Figure size 432x288 with 2 Axes>"
      ]
     },
     "metadata": {
      "needs_background": "light"
     },
     "output_type": "display_data"
    }
   ],
   "source": [
    "print('WITH CLASS IMBALANCE')\n",
    "\n",
    "%time y_train_pre = adabst.predict(X_test_pca)\n",
    "cnf_matrix_tra = confusion_matrix(y_test, y_train_pre)\n",
    "\n",
    "print(\"Recall metric in the train dataset: {}%\".format(100*cnf_matrix_tra[1,1]/(cnf_matrix_tra[1,0]+cnf_matrix_tra[1,1])))\n",
    "\n",
    "\n",
    "\n",
    "\n",
    "print('Recall:',recall_score(y_test,y_train_pre)*100)\n",
    "print('\\n')\n",
    "print('Precision:',precision_score(y_test,y_train_pre)*100)\n",
    "print('F1:',f1_score(y_test,y_train_pre)*100)\n",
    "print('Accuracy:',accuracy_score(y_test,y_train_pre)*100)\n",
    "print('ROC_AUC:,',roc_auc_score(y_test,y_train_pre)*100)\n",
    "\n",
    "\n",
    "class_names = [0,1]\n",
    "plt.figure()\n",
    "plot_confusion_matrix(cnf_matrix_tra , classes=class_names, title='Confusion matrix')\n",
    "plt.show()"
   ]
  },
  {
   "cell_type": "markdown",
   "metadata": {},
   "source": [
    "# Gradient Boosting"
   ]
  },
  {
   "cell_type": "code",
   "execution_count": 38,
   "metadata": {},
   "outputs": [],
   "source": [
    "gb = GradientBoostingClassifier(n_estimators=800,random_state=42,verbose=1,learning_rate=0.75)"
   ]
  },
  {
   "cell_type": "code",
   "execution_count": 39,
   "metadata": {},
   "outputs": [
    {
     "name": "stdout",
     "output_type": "stream",
     "text": [
      "      Iter       Train Loss   Remaining Time \n",
      "         1           1.3667           52.09s\n",
      "         2           1.3565           55.35s\n",
      "         3           1.3511           53.47s\n",
      "         4           1.3470           53.94s\n",
      "         5           1.3440           54.11s\n",
      "         6           1.3418           52.87s\n",
      "         7           1.3397           51.90s\n",
      "         8           1.3374           51.21s\n",
      "         9           1.3352           51.23s\n",
      "        10           1.3335           50.82s\n",
      "        20           1.3174           49.38s\n",
      "        30           1.3035           48.28s\n",
      "        40           1.2913           47.41s\n",
      "        50           1.2813           46.38s\n",
      "        60           1.2705           45.38s\n",
      "        70           1.2595           44.61s\n",
      "        80           1.2496           43.81s\n",
      "        90           1.2381           43.09s\n",
      "       100           1.2257           42.56s\n",
      "       200           1.1290           36.67s\n",
      "       300           1.0425           30.46s\n",
      "       400           0.9711           24.38s\n",
      "       500           0.8996           18.32s\n",
      "       600           0.8354           12.22s\n",
      "       700           0.7731            6.11s\n",
      "       800           0.7227            0.00s\n",
      "CPU times: user 48.9 s, sys: 116 ms, total: 49 s\n",
      "Wall time: 48.8 s\n"
     ]
    },
    {
     "data": {
      "text/plain": [
       "GradientBoostingClassifier(criterion='friedman_mse', init=None,\n",
       "              learning_rate=0.75, loss='deviance', max_depth=3,\n",
       "              max_features=None, max_leaf_nodes=None,\n",
       "              min_impurity_decrease=0.0, min_impurity_split=None,\n",
       "              min_samples_leaf=1, min_samples_split=2,\n",
       "              min_weight_fraction_leaf=0.0, n_estimators=800,\n",
       "              n_iter_no_change=None, presort='auto', random_state=42,\n",
       "              subsample=1.0, tol=0.0001, validation_fraction=0.1,\n",
       "              verbose=1, warm_start=False)"
      ]
     },
     "execution_count": 39,
     "metadata": {},
     "output_type": "execute_result"
    }
   ],
   "source": [
    "%time gb.fit(X_train_pca,y_train_res)"
   ]
  },
  {
   "cell_type": "code",
   "execution_count": 40,
   "metadata": {},
   "outputs": [
    {
     "name": "stdout",
     "output_type": "stream",
     "text": [
      "WITH CLASS IMBALANCE\n",
      "CPU times: user 1.04 s, sys: 7.78 ms, total: 1.05 s\n",
      "Wall time: 1.04 s\n",
      "Recall metric in the train dataset: 33.9618406285073%\n",
      "Recall: 33.9618406285073\n",
      "\n",
      "\n",
      "Precision: 3.7167141593789923\n",
      "F1: 6.700174921949384\n",
      "Accuracy: 64.6501677852349\n",
      "ROC_AUC:, 49.90174475104828\n"
     ]
    },
    {
     "data": {
      "image/png": "[encoded data removed]",
      "text/plain": [
       "<Figure size 432x288 with 2 Axes>"
      ]
     },
     "metadata": {
      "needs_background": "light"
     },
     "output_type": "display_data"
    }
   ],
   "source": [
    "print('WITH CLASS IMBALANCE')\n",
    "\n",
    "%time y_train_pre = gb.predict(X_test_pca)\n",
    "cnf_matrix_tra = confusion_matrix(y_test, y_train_pre)\n",
    "\n",
    "print(\"Recall metric in the train dataset: {}%\".format(100*cnf_matrix_tra[1,1]/(cnf_matrix_tra[1,0]+cnf_matrix_tra[1,1])))\n",
    "\n",
    "\n",
    "\n",
    "\n",
    "print('Recall:',recall_score(y_test,y_train_pre)*100)\n",
    "print('\\n')\n",
    "print('Precision:',precision_score(y_test,y_train_pre)*100)\n",
    "print('F1:',f1_score(y_test,y_train_pre)*100)\n",
    "print('Accuracy:',accuracy_score(y_test,y_train_pre)*100)\n",
    "print('ROC_AUC:,',roc_auc_score(y_test,y_train_pre)*100)\n",
    "\n",
    "\n",
    "class_names = [0,1]\n",
    "plt.figure()\n",
    "plot_confusion_matrix(cnf_matrix_tra , classes=class_names, title='Confusion matrix')\n",
    "plt.show()"
   ]
  },
  {
   "cell_type": "code",
   "execution_count": null,
   "metadata": {},
   "outputs": [],
   "source": []
  },
  {
   "cell_type": "code",
   "execution_count": null,
   "metadata": {},
   "outputs": [],
   "source": []
  },
  {
   "cell_type": "markdown",
   "metadata": {},
   "source": [
    "# Test Predictions"
   ]
  },
  {
   "cell_type": "code",
   "execution_count": 41,
   "metadata": {},
   "outputs": [],
   "source": [
    "test_data = pd.read_csv('data_test.csv')"
   ]
  },
  {
   "cell_type": "code",
   "execution_count": 42,
   "metadata": {},
   "outputs": [
    {
     "name": "stdout",
     "output_type": "stream",
     "text": [
      "['num18', 'num19', 'num22', 'cat1', 'cat2', 'cat3', 'cat4', 'cat5', 'cat6', 'cat8', 'cat10', 'cat12']\n"
     ]
    }
   ],
   "source": [
    "null_col = list(col_null(test_data))\n",
    "print(null_col)"
   ]
  },
  {
   "cell_type": "code",
   "execution_count": 43,
   "metadata": {},
   "outputs": [
    {
     "name": "stdout",
     "output_type": "stream",
     "text": [
      "num18    18.109442\n",
      "num19     0.000112\n",
      "num22     7.146489\n",
      "cat1      0.034386\n",
      "cat2      0.016241\n",
      "cat3      0.975565\n",
      "cat4      0.017921\n",
      "cat5      0.000560\n",
      "cat6     69.097216\n",
      "cat8     44.842274\n",
      "cat10     1.941161\n",
      "cat12     0.098229\n",
      "dtype: float64\n"
     ]
    }
   ],
   "source": [
    "# Percentage of data missing wrt whole data\n",
    "\n",
    "print(test_data[null_col].isnull().sum()/test_data.shape[0] *100)\n",
    "\n",
    "direct_drop_col = ['cat6','cat8']"
   ]
  },
  {
   "cell_type": "code",
   "execution_count": 44,
   "metadata": {
    "scrolled": true
   },
   "outputs": [
    {
     "data": {
      "text/plain": [
       "[('id', 892816, numpy.int64),\n",
       " ('num1', 8, numpy.int64),\n",
       " ('num2', 12, numpy.int64),\n",
       " ('num3', 2, numpy.int64),\n",
       " ('num4', 2, numpy.int64),\n",
       " ('num5', 2, numpy.int64),\n",
       " ('num6', 2, numpy.int64),\n",
       " ('num7', 2, numpy.int64),\n",
       " ('num8', 2, numpy.int64),\n",
       " ('num9', 2, numpy.int64),\n",
       " ('num10', 2, numpy.int64),\n",
       " ('num11', 5, numpy.int64),\n",
       " ('num12', 14, numpy.int64),\n",
       " ('num13', 2, numpy.int64),\n",
       " ('num14', 2, numpy.int64),\n",
       " ('num15', 2, numpy.int64),\n",
       " ('num16', 10, numpy.float64),\n",
       " ('num17', 19, numpy.float64),\n",
       " ('num18', 5046, numpy.float64),\n",
       " ('num19', 5, numpy.float64),\n",
       " ('num20', 201, numpy.float64),\n",
       " ('num21', 83769, numpy.float64),\n",
       " ('num22', 885, numpy.float64),\n",
       " ('num23', 15, numpy.float64),\n",
       " ('der1', 10, numpy.float64),\n",
       " ('der2', 10, numpy.float64),\n",
       " ('der3', 10, numpy.float64),\n",
       " ('der4', 6, numpy.int64),\n",
       " ('der5', 7, numpy.int64),\n",
       " ('der6', 10, numpy.int64),\n",
       " ('der7', 10, numpy.int64),\n",
       " ('der8', 12, numpy.int64),\n",
       " ('der9', 8, numpy.int64),\n",
       " ('der10', 26, numpy.int64),\n",
       " ('der11', 21, numpy.int64),\n",
       " ('der12', 11, numpy.int64),\n",
       " ('der13', 16, numpy.int64),\n",
       " ('der14', 25, numpy.int64),\n",
       " ('der15', 2, numpy.int64),\n",
       " ('der16', 2, numpy.int64),\n",
       " ('der17', 2, numpy.int64),\n",
       " ('der18', 2, numpy.int64),\n",
       " ('der19', 2, numpy.int64),\n",
       " ('cat1', 5, numpy.float64),\n",
       " ('cat2', 3, numpy.float64),\n",
       " ('cat3', 8, numpy.float64),\n",
       " ('cat4', 13, numpy.float64),\n",
       " ('cat5', 3, numpy.float64),\n",
       " ('cat6', 3, numpy.float64),\n",
       " ('cat7', 10, numpy.int64),\n",
       " ('cat8', 3, numpy.float64),\n",
       " ('cat9', 18, numpy.int64),\n",
       " ('cat10', 3, numpy.float64),\n",
       " ('cat11', 2, numpy.int64),\n",
       " ('cat12', 6, numpy.float64),\n",
       " ('cat13', 3, numpy.int64),\n",
       " ('cat14', 104, numpy.int64)]"
      ]
     },
     "execution_count": 44,
     "metadata": {},
     "output_type": "execute_result"
    }
   ],
   "source": [
    "list(data_eda_generator(test_data,test_data.columns))\n"
   ]
  },
  {
   "cell_type": "code",
   "execution_count": 45,
   "metadata": {},
   "outputs": [],
   "source": [
    "#  Creating dataframe for imputation\n",
    "# Selecting columns with null values\n",
    "# Direct_drop_col = 'cat6','cat8'\n",
    "\n",
    "id_ = test_data.id\n",
    "\n",
    "drop_col = null_col + ['id'] \n",
    "\n",
    "data_impute = test_data.drop(columns=drop_col)\n",
    "\n",
    "data_impute = change_data_type(data_impute,'category','cat')\n",
    "\n",
    "y_labels_columns = [x for x in null_col if x not in direct_drop_col]"
   ]
  },
  {
   "cell_type": "code",
   "execution_count": 46,
   "metadata": {},
   "outputs": [],
   "source": [
    "data_pr = change_data_type(test_data,'category','cat')"
   ]
  },
  {
   "cell_type": "code",
   "execution_count": 47,
   "metadata": {
    "scrolled": true
   },
   "outputs": [
    {
     "name": "stdout",
     "output_type": "stream",
     "text": [
      "drop_list :: \t ['num19', 'num22', 'cat1', 'cat2', 'cat3', 'cat4', 'cat5', 'cat10', 'cat12', 'id', 'cat6', 'cat8']\n",
      "performing regression\n",
      "num18 fitting in model\n",
      "Shape of training data for rf : (264563, 44)\n",
      "num18 prediction done\n",
      "drop_list :: \t ['num18', 'num22', 'cat1', 'cat2', 'cat3', 'cat4', 'cat5', 'cat10', 'cat12', 'id', 'cat6', 'cat8']\n",
      "performing regression\n",
      "num19 fitting in model\n",
      "Shape of training data for rf : (2, 44)\n",
      "num19 prediction done\n",
      "drop_list :: \t ['num18', 'num19', 'cat1', 'cat2', 'cat3', 'cat4', 'cat5', 'cat10', 'cat12', 'id', 'cat6', 'cat8']\n",
      "performing regression\n",
      "num22 fitting in model\n",
      "Shape of training data for rf : (118429, 44)\n",
      "num22 prediction done\n",
      "drop_list :: \t ['num18', 'num19', 'num22', 'cat2', 'cat3', 'cat4', 'cat5', 'cat10', 'cat12', 'id', 'cat6', 'cat8']\n",
      "performing classification\n",
      "cat1 fitting in model\n",
      "Shape of training data for rf : (614, 44)\n",
      "cat1 prediction done\n",
      "drop_list :: \t ['num18', 'num19', 'num22', 'cat1', 'cat3', 'cat4', 'cat5', 'cat10', 'cat12', 'id', 'cat6', 'cat8']\n",
      "performing classification\n",
      "cat2 fitting in model\n",
      "Shape of training data for rf : (290, 44)\n",
      "cat2 prediction done\n",
      "drop_list :: \t ['num18', 'num19', 'num22', 'cat1', 'cat2', 'cat4', 'cat5', 'cat10', 'cat12', 'id', 'cat6', 'cat8']\n",
      "performing classification\n",
      "cat3 fitting in model\n",
      "Shape of training data for rf : (17246, 44)\n",
      "cat3 prediction done\n",
      "drop_list :: \t ['num18', 'num19', 'num22', 'cat1', 'cat2', 'cat3', 'cat5', 'cat10', 'cat12', 'id', 'cat6', 'cat8']\n",
      "performing classification\n",
      "cat4 fitting in model\n",
      "Shape of training data for rf : (320, 44)\n",
      "cat4 prediction done\n",
      "drop_list :: \t ['num18', 'num19', 'num22', 'cat1', 'cat2', 'cat3', 'cat4', 'cat10', 'cat12', 'id', 'cat6', 'cat8']\n",
      "performing classification\n",
      "cat5 fitting in model\n",
      "Shape of training data for rf : (10, 44)\n",
      "cat5 prediction done\n",
      "drop_list :: \t ['num18', 'num19', 'num22', 'cat1', 'cat2', 'cat3', 'cat4', 'cat5', 'cat12', 'id', 'cat6', 'cat8']\n",
      "performing classification\n",
      "cat10 fitting in model\n",
      "Shape of training data for rf : (33965, 44)\n",
      "cat10 prediction done\n",
      "drop_list :: \t ['num18', 'num19', 'num22', 'cat1', 'cat2', 'cat3', 'cat4', 'cat5', 'cat10', 'id', 'cat6', 'cat8']\n",
      "performing classification\n",
      "cat12 fitting in model\n",
      "Shape of training data for rf : (1753, 44)\n",
      "cat12 prediction done\n"
     ]
    }
   ],
   "source": [
    "out_imputed = list(impute_generator(data=data_pr,columns=y_labels_columns))"
   ]
  },
  {
   "cell_type": "code",
   "execution_count": 48,
   "metadata": {},
   "outputs": [
    {
     "name": "stdout",
     "output_type": "stream",
     "text": [
      "Processing num18\n",
      "Processing num19\n",
      "Processing num22\n",
      "Processing cat1\n",
      "Processing cat2\n",
      "Processing cat3\n",
      "Processing cat4\n",
      "Processing cat5\n",
      "Processing cat10\n",
      "Processing cat12\n"
     ]
    }
   ],
   "source": [
    "imputed_data = update_data(data=data_pr,list_=out_imputed)\n"
   ]
  },
  {
   "cell_type": "code",
   "execution_count": 49,
   "metadata": {},
   "outputs": [
    {
     "data": {
      "text/plain": [
       "id       False\n",
       "num1     False\n",
       "num2     False\n",
       "num3     False\n",
       "num4     False\n",
       "num5     False\n",
       "num6     False\n",
       "num7     False\n",
       "num8     False\n",
       "num9     False\n",
       "num10    False\n",
       "num11    False\n",
       "num12    False\n",
       "num13    False\n",
       "num14    False\n",
       "num15    False\n",
       "num16    False\n",
       "num17    False\n",
       "num18    False\n",
       "num19    False\n",
       "num20    False\n",
       "num21    False\n",
       "num22    False\n",
       "num23    False\n",
       "der1     False\n",
       "der2     False\n",
       "der3     False\n",
       "der4     False\n",
       "der5     False\n",
       "der6     False\n",
       "der7     False\n",
       "der8     False\n",
       "der9     False\n",
       "der10    False\n",
       "der11    False\n",
       "der12    False\n",
       "der13    False\n",
       "der14    False\n",
       "der15    False\n",
       "der16    False\n",
       "der17    False\n",
       "der18    False\n",
       "der19    False\n",
       "cat1     False\n",
       "cat2     False\n",
       "cat3     False\n",
       "cat4     False\n",
       "cat5     False\n",
       "cat7     False\n",
       "cat9     False\n",
       "cat10    False\n",
       "cat11    False\n",
       "cat12    False\n",
       "cat13    False\n",
       "cat14    False\n",
       "dtype: bool"
      ]
     },
     "execution_count": 49,
     "metadata": {},
     "output_type": "execute_result"
    }
   ],
   "source": [
    "# Dropping 'cat6' and 'cat8'\n",
    "#  Due to High Percentage of missing values \n",
    "\n",
    "data_final = imputed_data.drop(columns=direct_drop_col)\n",
    "data_final.isnull().any()"
   ]
  },
  {
   "cell_type": "code",
   "execution_count": 50,
   "metadata": {},
   "outputs": [
    {
     "name": "stdout",
     "output_type": "stream",
     "text": [
      "Shape of test data loaded ((892816, 57)) \"VS\" Shape of test data after preprocess ((892816, 55))\n"
     ]
    }
   ],
   "source": [
    "print('Shape of test data loaded ({}) \"VS\" Shape of test data after preprocess ({})'.format(test_data.shape,data_final.shape))\n"
   ]
  },
  {
   "cell_type": "code",
   "execution_count": 51,
   "metadata": {},
   "outputs": [],
   "source": [
    "categorical_columns = ['cat1', 'cat2', 'cat3', 'cat4', 'cat5', 'cat7', 'cat9','cat10', 'cat11', 'cat12', 'cat13','cat14']\n",
    "# data_final_cat14_drop = data_final.drop(columns=['cat14'])\n",
    "\n",
    "# Dropping cat14 - 104 categories"
   ]
  },
  {
   "cell_type": "code",
   "execution_count": 52,
   "metadata": {},
   "outputs": [],
   "source": [
    "# Handling categorical \n",
    "\n",
    "df_final_1 = MultiColumnLabelEncoder(columns = categorical_columns).fit_transform(data_final)"
   ]
  },
  {
   "cell_type": "code",
   "execution_count": 53,
   "metadata": {},
   "outputs": [],
   "source": [
    "df_final_1 = df_final_1.drop(columns=['id'])"
   ]
  },
  {
   "cell_type": "code",
   "execution_count": 54,
   "metadata": {},
   "outputs": [],
   "source": [
    "#PCA \n",
    "sc= StandardScaler()\n",
    "X_train_ = sc.fit_transform(df_final_1)\n",
    "X_test_pred_pca = pca.transform(X_train_)\n"
   ]
  },
  {
   "cell_type": "code",
   "execution_count": 55,
   "metadata": {},
   "outputs": [
    {
     "data": {
      "text/plain": [
       "(892816, (892816, 15))"
      ]
     },
     "execution_count": 55,
     "metadata": {},
     "output_type": "execute_result"
    }
   ],
   "source": [
    "# check the length of id column\n",
    "len(id_),X_test_pred_pca.shape"
   ]
  },
  {
   "cell_type": "code",
   "execution_count": 56,
   "metadata": {},
   "outputs": [],
   "source": [
    "y_pred = adabst.predict(X_test_pred_pca)"
   ]
  },
  {
   "cell_type": "code",
   "execution_count": 57,
   "metadata": {},
   "outputs": [],
   "source": [
    "result = pd.DataFrame()"
   ]
  },
  {
   "cell_type": "code",
   "execution_count": 58,
   "metadata": {},
   "outputs": [],
   "source": [
    "result['id']  = id_\n",
    "result['target'] = y_pred"
   ]
  },
  {
   "cell_type": "code",
   "execution_count": 59,
   "metadata": {},
   "outputs": [],
   "source": [
    "result.to_csv('test_result.csv',index=False)"
   ]
  },
  {
   "cell_type": "code",
   "execution_count": 60,
   "metadata": {},
   "outputs": [
    {
     "data": {
      "text/plain": [
       "(892816, 2)"
      ]
     },
     "execution_count": 60,
     "metadata": {},
     "output_type": "execute_result"
    }
   ],
   "source": [
    "result.shape"
   ]
  },
  {
   "cell_type": "code",
   "execution_count": null,
   "metadata": {},
   "outputs": [],
   "source": []
  },
  {
   "cell_type": "code",
   "execution_count": null,
   "metadata": {},
   "outputs": [],
   "source": []
  }
 ],
 "metadata": {
  "kernelspec": {
   "display_name": "Python 3",
   "language": "python",
   "name": "python3"
  },
  "language_info": {
   "codemirror_mode": {
    "name": "ipython",
    "version": 3
   },
   "file_extension": ".py",
   "mimetype": "text/x-python",
   "name": "python",
   "nbconvert_exporter": "python",
   "pygments_lexer": "ipython3",
   "version": "3.6.6"
  }
 },
 "nbformat": 4,
 "nbformat_minor": 2
}
